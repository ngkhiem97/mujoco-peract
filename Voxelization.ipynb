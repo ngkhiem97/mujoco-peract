{
 "cells": [
  {
   "cell_type": "markdown",
   "id": "7133a548",
   "metadata": {},
   "source": [
    "# Generate data"
   ]
  },
  {
   "cell_type": "markdown",
   "id": "1ca1cd45",
   "metadata": {},
   "source": [
    "First, we need to determine the episode number to generate. The episode will be saved in at ./data/episode{numer}."
   ]
  },
  {
   "cell_type": "code",
   "execution_count": 1,
   "id": "81d46524",
   "metadata": {},
   "outputs": [],
   "source": [
    "EPISODE = 4"
   ]
  },
  {
   "attachments": {},
   "cell_type": "markdown",
   "id": "69698c37",
   "metadata": {},
   "source": [
    "Then, we instate the cameras' information for later use. "
   ]
  },
  {
   "cell_type": "code",
   "execution_count": 2,
   "id": "fd5e2a55",
   "metadata": {},
   "outputs": [],
   "source": [
    "CAMERAS = [\"top\", \"front\", \"side-1\", \"side-2\"]"
   ]
  },
  {
   "attachments": {},
   "cell_type": "markdown",
   "id": "6c11c672",
   "metadata": {},
   "source": [
    "Then, we create the folder which holds the episode data.\n"
   ]
  },
  {
   "cell_type": "code",
   "execution_count": 3,
   "id": "24c9962e",
   "metadata": {},
   "outputs": [],
   "source": [
    "import os\n",
    "episode_folder_base = 'data'\n",
    "episode_folder = os.path.join(episode_folder_base, f'episode{EPISODE}')\n",
    "if not os.path.exists(episode_folder):\n",
    "    os.makedirs(episode_folder)\n",
    "for camera in CAMERAS:\n",
    "    camera_depth = os.path.join(episode_folder, camera.replace(\"-\", \"_\")+\"_depth\")\n",
    "    camera_rgb = os.path.join(episode_folder, camera.replace(\"-\", \"_\")+\"_rgb\")\n",
    "    if not os.path.exists(camera_depth):\n",
    "        os.makedirs(camera_depth)\n",
    "    if not os.path.exists(camera_rgb):\n",
    "        os.makedirs(camera_rgb)"
   ]
  },
  {
   "attachments": {},
   "cell_type": "markdown",
   "id": "ecb840ed",
   "metadata": {},
   "source": [
    "Next thing is to read from the saves folder to generate the episode. The first step is to copy the current images from the saves folder to the data folder and re-format the names (e.g. 0.png, 1.png, ...)."
   ]
  },
  {
   "cell_type": "code",
   "execution_count": 4,
   "id": "67418a1c",
   "metadata": {},
   "outputs": [],
   "source": [
    "import shutil\n",
    "\n",
    "saves_cameras_folder = 'saves/cameras/'\n",
    "depth_images_path = []\n",
    "rgb_images_path = []\n",
    "for camera in CAMERAS:\n",
    "    camera_folder = os.path.join(saves_cameras_folder, camera.replace(\"-\", \"_\"))\n",
    "    images_folder = os.path.join(camera_folder, 'images')\n",
    "    images = os.listdir(images_folder)\n",
    "    depth_images = [image for image in images if image.startswith('depth')]\n",
    "    rgb_images = [image for image in images if image.startswith('rgb')]\n",
    "    depth_images.sort()\n",
    "    rgb_images.sort()\n",
    "    i = 0\n",
    "    for depth_image, rgb_image in zip(depth_images, rgb_images):\n",
    "        depth_image_path = os.path.join(images_folder, depth_image)\n",
    "        rgb_image_path = os.path.join(images_folder, rgb_image)\n",
    "        depth_image_new_path = os.path.join(episode_folder, camera.replace(\"-\", \"_\")+\"_depth\", str(i)+\".png\")\n",
    "        rgb_image_new_path = os.path.join(episode_folder, camera.replace(\"-\", \"_\")+\"_rgb\", str(i)+\".png\")\n",
    "        shutil.copyfile(depth_image_path, depth_image_new_path)\n",
    "        shutil.copyfile(rgb_image_path, rgb_image_new_path)\n",
    "        depth_images_path.append(depth_image_new_path)\n",
    "        rgb_images_path.append(rgb_image_new_path)\n",
    "        i += 1"
   ]
  },
  {
   "attachments": {},
   "cell_type": "markdown",
   "id": "a1f061dc",
   "metadata": {},
   "source": [
    "Next step is to generate the Observation objects and save them as pickle file in the data folder."
   ]
  },
  {
   "cell_type": "code",
   "execution_count": 6,
   "id": "9c80923d",
   "metadata": {},
   "outputs": [],
   "source": [
    "import numpy as np\n",
    "from rlbench.backend.observation import Observation\n",
    "import pickle\n",
    "\n",
    "extrinsics_filename = 'ex_2023_1_29_16_48_45.npy'\n",
    "intrinsics_filename = 'in_2023_1_29_16_48_45.npy'\n",
    "\n",
    "camera_far = 2\n",
    "camera_near = 0.16\n",
    "misc = {}\n",
    "for camera in CAMERAS:\n",
    "    camera_extrinsics = np.load(os.path.join(saves_cameras_folder, camera.replace(\"-\", \"_\"), 'matrices', extrinsics_filename))\n",
    "    camera_intrinsics = np.load(os.path.join(saves_cameras_folder, camera.replace(\"-\", \"_\"), 'matrices', intrinsics_filename))\n",
    "    misc[camera.replace(\"-\", \"_\")+\"_camera_extrinsics\"] = camera_extrinsics\n",
    "    misc[camera.replace(\"-\", \"_\")+\"_camera_intrinsics\"] = camera_intrinsics\n",
    "    misc[camera.replace(\"-\", \"_\")+\"_camera_far\"] = camera_far\n",
    "    misc[camera.replace(\"-\", \"_\")+\"_camera_near\"] = camera_near\n",
    "\n",
    "obs = []\n",
    "for depth_image_path, rgb_image_path in zip(depth_images_path, rgb_images_path):\n",
    "    obs.append(Observation(misc=misc))\n",
    "\n",
    "with open(f'data/episode{EPISODE}/low_dim_obs.pkl', \"wb\") as f:\n",
    "    pickle.dump(obs, f)    "
   ]
  },
  {
   "attachments": {},
   "cell_type": "markdown",
   "id": "1a8f9c4a",
   "metadata": {},
   "source": [
    "# VISUALIZATION"
   ]
  },
  {
   "cell_type": "code",
   "execution_count": null,
   "id": "91bfdec4",
   "metadata": {},
   "outputs": [],
   "source": [
    "from rlbench.backend.utils import extract_obs\n",
    "\n",
    "import pprint\n",
    "\n",
    "# what to visualize\n",
    "episode_idx_to_visualize = 1 # out of 10 demos\n",
    "ts = 0 # timestep out of total timesteps\n",
    "\n",
    "# get demo\n",
    "demo = get_stored_demo(data_path=data_path,\n",
    "                      index=episode_idx_to_visualize)    \n",
    "\n",
    "pprint.pprint(demo[ts].front_point_cloud)\n",
    "\n",
    "# visualize the point cloud\n",
    "fig = plt.figure(figsize=(20, 10))\n",
    "ax = fig.add_subplot(111, projection='3d')\n",
    "ax.scatter(demo[ts].front_point_cloud[:, 0], demo[ts].front_point_cloud[:, 1], demo[ts].front_point_cloud[:, 2], c=demo[ts].front_point_cloud[:, 2], cmap='viridis', linewidth=0.5)\n",
    "ax.set_xlabel('X Label')\n",
    "ax.set_ylabel('Y Label')\n",
    "ax.set_zlabel('Z Label')\n",
    "plt.show()\n",
    "\n",
    "# extract obs at timestep                 \n",
    "obs_dict = extract_obs(demo[ts], CAMERAS, t=ts)\n",
    "\n",
    "# print(obs_dict)\n",
    "\n",
    "# total timesteps in demo\n",
    "print(f\"Demo {episode_idx_to_visualize} | {len(demo)} total steps\\n\")\n",
    "\n",
    "# plot rgb and depth at timestep\n",
    "fig = plt.figure(figsize=(20, 10))\n",
    "rows, cols = 2, len(CAMERAS)\n",
    "\n",
    "plot_idx = 1\n",
    "for camera in CAMERAS:\n",
    "  # rgb\n",
    "  rgb_name = \"%s_%s\" % (camera, 'rgb')\n",
    "  rgb = np.transpose(obs_dict[rgb_name], (1, 2, 0))\n",
    "  fig.add_subplot(rows, cols, plot_idx)\n",
    "  plt.imshow(rgb)\n",
    "  plt.axis('off')\n",
    "  plt.title(\"%s_rgb | step %s\" % (camera, ts))\n",
    "\n",
    "  # depth\n",
    "  depth_name = \"%s_%s\" % (camera, 'depth')\n",
    "  depth = np.transpose(obs_dict[depth_name], (1, 2, 0)).reshape(IMAGE_SIZE, IMAGE_SIZE)\n",
    "  fig.add_subplot(rows, cols, plot_idx+len(CAMERAS))\n",
    "  plt.imshow(depth)\n",
    "  plt.axis('off')\n",
    "  plt.title(\"%s_depth | step %s\" % (camera, ts))\n",
    "\n",
    "  plot_idx += 1\n",
    "\n",
    "plt.show()"
   ]
  }
 ],
 "metadata": {
  "kernelspec": {
   "display_name": "base",
   "language": "python",
   "name": "python3"
  },
  "language_info": {
   "codemirror_mode": {
    "name": "ipython",
    "version": 3
   },
   "file_extension": ".py",
   "mimetype": "text/x-python",
   "name": "python",
   "nbconvert_exporter": "python",
   "pygments_lexer": "ipython3",
   "version": "3.9.13"
  },
  "vscode": {
   "interpreter": {
    "hash": "b2ef8efef05438f3cc9d6f26cc8a087a450b2ec2efd4426dfc5c5f3655d07f60"
   }
  }
 },
 "nbformat": 4,
 "nbformat_minor": 5
}
